{
  "nbformat": 4,
  "nbformat_minor": 0,
  "metadata": {
    "colab": {
      "provenance": []
    },
    "kernelspec": {
      "name": "python3",
      "display_name": "Python 3"
    },
    "language_info": {
      "name": "python"
    }
  },
  "cells": [
    {
      "cell_type": "code",
      "execution_count": 1,
      "metadata": {
        "colab": {
          "base_uri": "https://localhost:8080/"
        },
        "id": "iUgwVwAEzTNA",
        "outputId": "55d9f4b6-d1af-4ec6-f8a3-93a5cd6c63c9"
      },
      "outputs": [
        {
          "output_type": "stream",
          "name": "stdout",
          "text": [
            "Requirement already satisfied: streamlit in /usr/local/lib/python3.11/dist-packages (1.47.1)\n",
            "Requirement already satisfied: langchain in /usr/local/lib/python3.11/dist-packages (0.3.27)\n",
            "Requirement already satisfied: duckduckgo-search in /usr/local/lib/python3.11/dist-packages (8.1.1)\n",
            "Requirement already satisfied: beautifulsoup4 in /usr/local/lib/python3.11/dist-packages (4.13.4)\n",
            "Requirement already satisfied: fuzzywuzzy in /usr/local/lib/python3.11/dist-packages (0.18.0)\n",
            "Requirement already satisfied: python-Levenshtein in /usr/local/lib/python3.11/dist-packages (0.27.1)\n",
            "Requirement already satisfied: transformers in /usr/local/lib/python3.11/dist-packages (4.54.0)\n",
            "Requirement already satisfied: altair<6,>=4.0 in /usr/local/lib/python3.11/dist-packages (from streamlit) (5.5.0)\n",
            "Requirement already satisfied: blinker<2,>=1.5.0 in /usr/local/lib/python3.11/dist-packages (from streamlit) (1.9.0)\n",
            "Requirement already satisfied: cachetools<7,>=4.0 in /usr/local/lib/python3.11/dist-packages (from streamlit) (5.5.2)\n",
            "Requirement already satisfied: click<9,>=7.0 in /usr/local/lib/python3.11/dist-packages (from streamlit) (8.2.1)\n",
            "Requirement already satisfied: numpy<3,>=1.23 in /usr/local/lib/python3.11/dist-packages (from streamlit) (2.0.2)\n",
            "Requirement already satisfied: packaging<26,>=20 in /usr/local/lib/python3.11/dist-packages (from streamlit) (25.0)\n",
            "Requirement already satisfied: pandas<3,>=1.4.0 in /usr/local/lib/python3.11/dist-packages (from streamlit) (2.2.2)\n",
            "Requirement already satisfied: pillow<12,>=7.1.0 in /usr/local/lib/python3.11/dist-packages (from streamlit) (11.3.0)\n",
            "Requirement already satisfied: protobuf<7,>=3.20 in /usr/local/lib/python3.11/dist-packages (from streamlit) (5.29.5)\n",
            "Requirement already satisfied: pyarrow>=7.0 in /usr/local/lib/python3.11/dist-packages (from streamlit) (18.1.0)\n",
            "Requirement already satisfied: requests<3,>=2.27 in /usr/local/lib/python3.11/dist-packages (from streamlit) (2.32.3)\n",
            "Requirement already satisfied: tenacity<10,>=8.1.0 in /usr/local/lib/python3.11/dist-packages (from streamlit) (8.5.0)\n",
            "Requirement already satisfied: toml<2,>=0.10.1 in /usr/local/lib/python3.11/dist-packages (from streamlit) (0.10.2)\n",
            "Requirement already satisfied: typing-extensions<5,>=4.4.0 in /usr/local/lib/python3.11/dist-packages (from streamlit) (4.14.1)\n",
            "Requirement already satisfied: watchdog<7,>=2.1.5 in /usr/local/lib/python3.11/dist-packages (from streamlit) (6.0.0)\n",
            "Requirement already satisfied: gitpython!=3.1.19,<4,>=3.0.7 in /usr/local/lib/python3.11/dist-packages (from streamlit) (3.1.45)\n",
            "Requirement already satisfied: pydeck<1,>=0.8.0b4 in /usr/local/lib/python3.11/dist-packages (from streamlit) (0.9.1)\n",
            "Requirement already satisfied: tornado!=6.5.0,<7,>=6.0.3 in /usr/local/lib/python3.11/dist-packages (from streamlit) (6.4.2)\n",
            "Requirement already satisfied: langchain-core<1.0.0,>=0.3.72 in /usr/local/lib/python3.11/dist-packages (from langchain) (0.3.72)\n",
            "Requirement already satisfied: langchain-text-splitters<1.0.0,>=0.3.9 in /usr/local/lib/python3.11/dist-packages (from langchain) (0.3.9)\n",
            "Requirement already satisfied: langsmith>=0.1.17 in /usr/local/lib/python3.11/dist-packages (from langchain) (0.4.8)\n",
            "Requirement already satisfied: pydantic<3.0.0,>=2.7.4 in /usr/local/lib/python3.11/dist-packages (from langchain) (2.11.7)\n",
            "Requirement already satisfied: SQLAlchemy<3,>=1.4 in /usr/local/lib/python3.11/dist-packages (from langchain) (2.0.41)\n",
            "Requirement already satisfied: PyYAML>=5.3 in /usr/local/lib/python3.11/dist-packages (from langchain) (6.0.2)\n",
            "Requirement already satisfied: primp>=0.15.0 in /usr/local/lib/python3.11/dist-packages (from duckduckgo-search) (0.15.0)\n",
            "Requirement already satisfied: lxml>=5.3.0 in /usr/local/lib/python3.11/dist-packages (from duckduckgo-search) (5.4.0)\n",
            "Requirement already satisfied: soupsieve>1.2 in /usr/local/lib/python3.11/dist-packages (from beautifulsoup4) (2.7)\n",
            "Requirement already satisfied: Levenshtein==0.27.1 in /usr/local/lib/python3.11/dist-packages (from python-Levenshtein) (0.27.1)\n",
            "Requirement already satisfied: rapidfuzz<4.0.0,>=3.9.0 in /usr/local/lib/python3.11/dist-packages (from Levenshtein==0.27.1->python-Levenshtein) (3.13.0)\n",
            "Requirement already satisfied: filelock in /usr/local/lib/python3.11/dist-packages (from transformers) (3.18.0)\n",
            "Requirement already satisfied: huggingface-hub<1.0,>=0.34.0 in /usr/local/lib/python3.11/dist-packages (from transformers) (0.34.1)\n",
            "Requirement already satisfied: regex!=2019.12.17 in /usr/local/lib/python3.11/dist-packages (from transformers) (2024.11.6)\n",
            "Requirement already satisfied: tokenizers<0.22,>=0.21 in /usr/local/lib/python3.11/dist-packages (from transformers) (0.21.2)\n",
            "Requirement already satisfied: safetensors>=0.4.3 in /usr/local/lib/python3.11/dist-packages (from transformers) (0.5.3)\n",
            "Requirement already satisfied: tqdm>=4.27 in /usr/local/lib/python3.11/dist-packages (from transformers) (4.67.1)\n",
            "Requirement already satisfied: jinja2 in /usr/local/lib/python3.11/dist-packages (from altair<6,>=4.0->streamlit) (3.1.6)\n",
            "Requirement already satisfied: jsonschema>=3.0 in /usr/local/lib/python3.11/dist-packages (from altair<6,>=4.0->streamlit) (4.25.0)\n",
            "Requirement already satisfied: narwhals>=1.14.2 in /usr/local/lib/python3.11/dist-packages (from altair<6,>=4.0->streamlit) (1.48.1)\n",
            "Requirement already satisfied: gitdb<5,>=4.0.1 in /usr/local/lib/python3.11/dist-packages (from gitpython!=3.1.19,<4,>=3.0.7->streamlit) (4.0.12)\n",
            "Requirement already satisfied: fsspec>=2023.5.0 in /usr/local/lib/python3.11/dist-packages (from huggingface-hub<1.0,>=0.34.0->transformers) (2025.3.0)\n",
            "Requirement already satisfied: hf-xet<2.0.0,>=1.1.3 in /usr/local/lib/python3.11/dist-packages (from huggingface-hub<1.0,>=0.34.0->transformers) (1.1.5)\n",
            "Requirement already satisfied: jsonpatch<2.0,>=1.33 in /usr/local/lib/python3.11/dist-packages (from langchain-core<1.0.0,>=0.3.72->langchain) (1.33)\n",
            "Requirement already satisfied: httpx<1,>=0.23.0 in /usr/local/lib/python3.11/dist-packages (from langsmith>=0.1.17->langchain) (0.28.1)\n",
            "Requirement already satisfied: orjson<4.0.0,>=3.9.14 in /usr/local/lib/python3.11/dist-packages (from langsmith>=0.1.17->langchain) (3.11.1)\n",
            "Requirement already satisfied: requests-toolbelt<2.0.0,>=1.0.0 in /usr/local/lib/python3.11/dist-packages (from langsmith>=0.1.17->langchain) (1.0.0)\n",
            "Requirement already satisfied: zstandard<0.24.0,>=0.23.0 in /usr/local/lib/python3.11/dist-packages (from langsmith>=0.1.17->langchain) (0.23.0)\n",
            "Requirement already satisfied: python-dateutil>=2.8.2 in /usr/local/lib/python3.11/dist-packages (from pandas<3,>=1.4.0->streamlit) (2.9.0.post0)\n",
            "Requirement already satisfied: pytz>=2020.1 in /usr/local/lib/python3.11/dist-packages (from pandas<3,>=1.4.0->streamlit) (2025.2)\n",
            "Requirement already satisfied: tzdata>=2022.7 in /usr/local/lib/python3.11/dist-packages (from pandas<3,>=1.4.0->streamlit) (2025.2)\n",
            "Requirement already satisfied: annotated-types>=0.6.0 in /usr/local/lib/python3.11/dist-packages (from pydantic<3.0.0,>=2.7.4->langchain) (0.7.0)\n",
            "Requirement already satisfied: pydantic-core==2.33.2 in /usr/local/lib/python3.11/dist-packages (from pydantic<3.0.0,>=2.7.4->langchain) (2.33.2)\n",
            "Requirement already satisfied: typing-inspection>=0.4.0 in /usr/local/lib/python3.11/dist-packages (from pydantic<3.0.0,>=2.7.4->langchain) (0.4.1)\n",
            "Requirement already satisfied: charset-normalizer<4,>=2 in /usr/local/lib/python3.11/dist-packages (from requests<3,>=2.27->streamlit) (3.4.2)\n",
            "Requirement already satisfied: idna<4,>=2.5 in /usr/local/lib/python3.11/dist-packages (from requests<3,>=2.27->streamlit) (3.10)\n",
            "Requirement already satisfied: urllib3<3,>=1.21.1 in /usr/local/lib/python3.11/dist-packages (from requests<3,>=2.27->streamlit) (2.5.0)\n",
            "Requirement already satisfied: certifi>=2017.4.17 in /usr/local/lib/python3.11/dist-packages (from requests<3,>=2.27->streamlit) (2025.7.14)\n",
            "Requirement already satisfied: greenlet>=1 in /usr/local/lib/python3.11/dist-packages (from SQLAlchemy<3,>=1.4->langchain) (3.2.3)\n",
            "Requirement already satisfied: smmap<6,>=3.0.1 in /usr/local/lib/python3.11/dist-packages (from gitdb<5,>=4.0.1->gitpython!=3.1.19,<4,>=3.0.7->streamlit) (5.0.2)\n",
            "Requirement already satisfied: anyio in /usr/local/lib/python3.11/dist-packages (from httpx<1,>=0.23.0->langsmith>=0.1.17->langchain) (4.9.0)\n",
            "Requirement already satisfied: httpcore==1.* in /usr/local/lib/python3.11/dist-packages (from httpx<1,>=0.23.0->langsmith>=0.1.17->langchain) (1.0.9)\n",
            "Requirement already satisfied: h11>=0.16 in /usr/local/lib/python3.11/dist-packages (from httpcore==1.*->httpx<1,>=0.23.0->langsmith>=0.1.17->langchain) (0.16.0)\n",
            "Requirement already satisfied: MarkupSafe>=2.0 in /usr/local/lib/python3.11/dist-packages (from jinja2->altair<6,>=4.0->streamlit) (3.0.2)\n",
            "Requirement already satisfied: jsonpointer>=1.9 in /usr/local/lib/python3.11/dist-packages (from jsonpatch<2.0,>=1.33->langchain-core<1.0.0,>=0.3.72->langchain) (3.0.0)\n",
            "Requirement already satisfied: attrs>=22.2.0 in /usr/local/lib/python3.11/dist-packages (from jsonschema>=3.0->altair<6,>=4.0->streamlit) (25.3.0)\n",
            "Requirement already satisfied: jsonschema-specifications>=2023.03.6 in /usr/local/lib/python3.11/dist-packages (from jsonschema>=3.0->altair<6,>=4.0->streamlit) (2025.4.1)\n",
            "Requirement already satisfied: referencing>=0.28.4 in /usr/local/lib/python3.11/dist-packages (from jsonschema>=3.0->altair<6,>=4.0->streamlit) (0.36.2)\n",
            "Requirement already satisfied: rpds-py>=0.7.1 in /usr/local/lib/python3.11/dist-packages (from jsonschema>=3.0->altair<6,>=4.0->streamlit) (0.26.0)\n",
            "Requirement already satisfied: six>=1.5 in /usr/local/lib/python3.11/dist-packages (from python-dateutil>=2.8.2->pandas<3,>=1.4.0->streamlit) (1.17.0)\n",
            "Requirement already satisfied: sniffio>=1.1 in /usr/local/lib/python3.11/dist-packages (from anyio->httpx<1,>=0.23.0->langsmith>=0.1.17->langchain) (1.3.1)\n"
          ]
        }
      ],
      "source": [
        "!pip install streamlit langchain duckduckgo-search beautifulsoup4 fuzzywuzzy python-Levenshtein transformers"
      ]
    },
    {
      "cell_type": "code",
      "source": [
        "import importlib\n",
        "\n",
        "packages = [\n",
        "    \"streamlit\",\n",
        "    \"langchain\",\n",
        "    \"duckduckgo_search\",\n",
        "    \"bs4\",\n",
        "    \"fuzzywuzzy\",\n",
        "    \"Levenshtein\",\n",
        "    \"transformers\"\n",
        "]\n",
        "\n",
        "for pkg in packages:\n",
        "    found = importlib.util.find_spec(pkg) is not None\n",
        "    print(f\"{pkg}: {'✅ Installed' if found else '❌ Not Installed'}\")\n"
      ],
      "metadata": {
        "colab": {
          "base_uri": "https://localhost:8080/"
        },
        "id": "3LaZjF4l2CGy",
        "outputId": "b90a0847-a6ef-409b-9746-a67be5363a99"
      },
      "execution_count": 2,
      "outputs": [
        {
          "output_type": "stream",
          "name": "stdout",
          "text": [
            "streamlit: ✅ Installed\n",
            "langchain: ✅ Installed\n",
            "duckduckgo_search: ✅ Installed\n",
            "bs4: ✅ Installed\n",
            "fuzzywuzzy: ✅ Installed\n",
            "Levenshtein: ✅ Installed\n",
            "transformers: ✅ Installed\n"
          ]
        }
      ]
    },
    {
      "cell_type": "code",
      "source": [
        "%%writefile app.py\n",
        "import streamlit as st\n",
        "from fuzzywuzzy import process\n",
        "from duckduckgo_search import DDGS\n",
        "from transformers import pipeline\n",
        "import time\n",
        "\n",
        "st.title(\"NEWSGenie: a smart company news chatbot\")\n",
        "\n",
        "KNOWN_COMPANIES = [\n",
        "    \"Adobe\", \"Airbnb\", \"Amazon\", \"AMD\", \"Apple\", \"Atlassian\", \"Cisco\", \"Dell\",\n",
        "    \"DoorDash\", \"Dropbox\", \"eBay\", \"Facebook\", \"Google\", \"HP\", \"IBM\", \"Intel\",\n",
        "    \"LinkedIn\", \"Lyft\", \"Mastercard\", \"Meta\", \"Microsoft\", \"Netflix\", \"NVIDIA\",\n",
        "    \"Oracle\", \"PayPal\", \"Pinterest\", \"Qualcomm\", \"Salesforce\", \"Samsung\",\n",
        "    \"Shopify\", \"Slack\", \"Snap Inc\", \"Snapchat\", \"Sony\", \"Spotify\", \"Square\",\n",
        "    \"Stripe\", \"Tesla\", \"TikTok\", \"Twitter\", \"Uber\", \"Visa\", \"Zoom\"\n",
        "]\n",
        "\n",
        "summarizer = pipeline(\"summarization\", model=\"sshleifer/distilbart-cnn-12-6\")\n",
        "\n",
        "if \"conversations\" not in st.session_state:\n",
        "    st.session_state.conversations = []\n",
        "if \"selected_conv\" not in st.session_state:\n",
        "    st.session_state.selected_conv = None\n",
        "if \"feedback\" not in st.session_state:\n",
        "    st.session_state.feedback = {}\n",
        "if \"last_user_input\" not in st.session_state:\n",
        "    st.session_state.last_user_input = \"\"\n",
        "\n",
        "def detect_intent(message):\n",
        "    greeting_keywords = ['hi', 'hello', 'hey', 'greetings']\n",
        "    if any(word in message.lower() for word in greeting_keywords):\n",
        "        return 'greeting'\n",
        "    if message.strip():\n",
        "        return 'company_query'\n",
        "    return 'other'\n",
        "\n",
        "def correct_company_name(name):\n",
        "    if not KNOWN_COMPANIES:\n",
        "        return None\n",
        "    match, score = process.extractOne(name, KNOWN_COMPANIES)\n",
        "    if score > 80:\n",
        "        return match\n",
        "    return None\n",
        "\n",
        "def get_company_names(user_message):\n",
        "    company_names = []\n",
        "    if KNOWN_COMPANIES:\n",
        "        for word in user_message.split():\n",
        "            corrected = correct_company_name(word)\n",
        "            if corrected and corrected not in company_names:\n",
        "                company_names.append(corrected)\n",
        "    if not company_names:\n",
        "        company_names.append(user_message.strip())\n",
        "    return company_names\n",
        "\n",
        "def get_news(company, max_results=3):\n",
        "    with DDGS() as ddgs:\n",
        "        time.sleep(1)\n",
        "        results = ddgs.news(company, max_results=max_results)\n",
        "        news_items = []\n",
        "        for r in results:\n",
        "            title = r.get('title')\n",
        "            url = r.get('url')\n",
        "            snippet = r.get('body') or ''\n",
        "            news_items.append((title, url, snippet))\n",
        "        return news_items\n",
        "\n",
        "def summarize_news(news_items, style):\n",
        "    text = \"\\n\".join([f\"{t}: {s}\" for t, _, s in news_items if t and s])\n",
        "    if not text.strip():\n",
        "        return \"No details to summarize.\"\n",
        "    style_lower = style.lower()\n",
        "    if \"formal\" in style_lower:\n",
        "        prompt = f\"Formal business summary:\\n{text}\"\n",
        "        summary = summarizer(prompt[:1024], max_length=150, min_length=80, do_sample=False)\n",
        "        return summary[0]['summary_text']\n",
        "    elif \"casual\" in style_lower:\n",
        "        prompt = f\"Friendly, conversational summary:\\n{text}\"\n",
        "        summary = summarizer(prompt[:1024], max_length=150, min_length=80, do_sample=True)\n",
        "        return summary[0]['summary_text']\n",
        "    elif \"bullet\" in style_lower:\n",
        "        prompt = f\"Summarize as at least 5 bullet points:\\n{text}\"\n",
        "        result = summarizer(prompt[:1024], max_length=100, min_length=50, do_sample=False)[0][\"summary_text\"]\n",
        "        raw_bullets = [b.strip(\" -.\") for b in result.split('\\n') if b.strip().startswith(\"-\")]\n",
        "        if len(raw_bullets) < 4:\n",
        "            raw_bullets = [b.strip(\" -.\") for b in result.split('-') if b.strip()]\n",
        "        bullets = [b for i, b in enumerate(raw_bullets) if b and (b not in raw_bullets[:i])]\n",
        "        return \"\\n\".join([f\"- {b}\" for b in bullets])\n",
        "    else:\n",
        "        prompt = f\"Summary:\\n{text}\"\n",
        "        summary = summarizer(prompt[:1024], max_length=150, min_length=80, do_sample=False)\n",
        "        return summary[0]['summary_text']\n",
        "\n",
        "user_input = st.text_input(\"Type company names or chat here...\")\n",
        "\n",
        "style = st.selectbox(\"Choose output style:\", [\n",
        "    \"Formal business summary\",\n",
        "    \"Casual conversation\",\n",
        "    \"Quick bullet points\"\n",
        "])\n",
        "\n",
        "# Process new input only when changed\n",
        "if user_input and user_input != st.session_state.last_user_input:\n",
        "    intent = detect_intent(user_input)\n",
        "    if intent == \"greeting\":\n",
        "        bot_reply = \"Hi there! You can enter any company name and I'll find the latest news for you.\"\n",
        "    elif intent == \"company_query\":\n",
        "        company_names = get_company_names(user_input)\n",
        "        bot_reply = \"\"\n",
        "        for company_name in company_names:\n",
        "            news = get_news(company_name)\n",
        "            if news:\n",
        "                summary = summarize_news(news, style)\n",
        "                bot_reply += f\"News for {company_name}:\\n{summary}\\n\\n\"\n",
        "                for idx, (title, url, _) in enumerate(news, 1):\n",
        "                    bot_reply += f\"{idx}. [{title}]({url})\\n\"\n",
        "                bot_reply += \"\\n---\\n\"\n",
        "            else:\n",
        "                bot_reply += f\"Sorry, I couldn't find any recent news for {company_name}.\\n---\\n\"\n",
        "    else:\n",
        "        bot_reply = \"Sorry, I didn't understand that. Please enter a company name.\"\n",
        "\n",
        "    st.session_state.conversations.append({\"user\": user_input, \"bot\": bot_reply})\n",
        "    st.session_state.selected_conv = len(st.session_state.conversations) - 1\n",
        "    st.session_state.last_user_input = user_input\n",
        "\n",
        "with st.sidebar:\n",
        "    st.markdown(\"Recent Chats\")\n",
        "    for idx in reversed(range(len(st.session_state.conversations))):\n",
        "        conv = st.session_state.conversations[idx]\n",
        "        if st.button(conv[\"user\"][:60], key=f\"selectbtn_{idx}\"):\n",
        "            st.session_state.selected_conv = idx\n",
        "\n",
        "selected_idx = st.session_state.get(\"selected_conv\", None)\n",
        "if selected_idx is not None and selected_idx < len(st.session_state.conversations):\n",
        "    conv = st.session_state.conversations[selected_idx]\n",
        "    st.markdown(f\"**You:** {conv['user']}\")\n",
        "    st.markdown(f\"**Bot:** {conv['bot']}\")\n",
        "    col1, col2 = st.columns([1, 1])\n",
        "    with col1:\n",
        "        if st.button(\"👍\", key=f\"up_{selected_idx}\"):\n",
        "            st.session_state.feedback[selected_idx] = \"up\"\n",
        "    with col2:\n",
        "        if st.button(\"👎\", key=f\"down_{selected_idx}\"):\n",
        "            st.session_state.feedback[selected_idx] = \"down\"\n",
        "    fb = st.session_state.feedback.get(selected_idx)\n",
        "    if fb == \"up\":\n",
        "        st.success(\"Thank you for your positive feedback! 👍\")\n",
        "    elif fb == \"down\":\n",
        "        st.error(\"Thanks for your feedback. 👎\")\n",
        "elif st.session_state.conversations:\n",
        "    conv = st.session_state.conversations[-1]\n",
        "    st.markdown(f\"**You:** {conv['user']}\")\n",
        "    st.markdown(f\"**Bot:** {conv['bot']}\")\n",
        "else:\n",
        "    st.markdown(\"_No chat history yet_\")\n"
      ],
      "metadata": {
        "id": "RYmbqsWE2cTa",
        "colab": {
          "base_uri": "https://localhost:8080/"
        },
        "outputId": "8bc139dc-0cf6-4e0d-f189-dc92b0e64649"
      },
      "execution_count": 6,
      "outputs": [
        {
          "output_type": "stream",
          "name": "stdout",
          "text": [
            "Writing app.py\n"
          ]
        }
      ]
    },
    {
      "cell_type": "code",
      "source": [
        "from pyngrok import ngrok\n",
        "\n",
        "ngrok.set_auth_token('30rKPi0egXAHDJYiIoG6jD2R3Mn_twNK1UNpL8UCnj3W7RkA')\n"
      ],
      "metadata": {
        "id": "ki2ugQaT_DSe"
      },
      "execution_count": 7,
      "outputs": []
    },
    {
      "cell_type": "code",
      "source": [
        "import os\n",
        "os.system('killall streamlit')  # To avoid port conflicts\n",
        "os.system('nohup streamlit run app.py &')\n",
        "public_url = ngrok.connect(8501)\n",
        "print(f\"Streamlit app is live at: {public_url}\")"
      ],
      "metadata": {
        "colab": {
          "base_uri": "https://localhost:8080/"
        },
        "id": "bj6k6xGz58O2",
        "outputId": "61b7ca16-1ae9-40c0-9146-21e28214761d"
      },
      "execution_count": 4,
      "outputs": [
        {
          "output_type": "stream",
          "name": "stdout",
          "text": [
            "Streamlit app is live at: NgrokTunnel: \"https://39e5a1a9c5bb.ngrok-free.app\" -> \"http://localhost:8501\"\n"
          ]
        }
      ]
    }
  ]
}